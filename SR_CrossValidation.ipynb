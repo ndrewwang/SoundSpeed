{
 "cells": [
  {
   "cell_type": "markdown",
   "metadata": {},
   "source": [
    "# Training and cross validation of symbolic regression model\n",
    "\n",
    "This workbook performs symbolic regression (SR) on bulk modulus data. \n",
    "\n",
    "The SR algorithm was first implemented by Flores et. al. in the following work DOI: [10.1039/D2DD00027J](https://doi.org/10.1039/D2DD00027J)."
   ]
  },
  {
   "cell_type": "code",
   "execution_count": null,
   "metadata": {},
   "outputs": [],
   "source": [
    "# import packages\n",
    "import os, sys, platform\n",
    "import numpy as np\n",
    "import pandas as pd\n",
    "import workflows as wf\n",
    "import matplotlib.pyplot as plt\n",
    "from sklearn.model_selection import KFold\n",
    "import sklearn.metrics as skmetrics \n",
    "from itertools import permutations, combinations\n",
    "import runSR as sr\n",
    "\n",
    "print('Python version', sys.version)\n",
    "print('Running on', platform.system())"
   ]
  },
  {
   "cell_type": "code",
   "execution_count": null,
   "metadata": {},
   "outputs": [],
   "source": [
    "# LOADING THE TRAINING DATA\n",
    "#=========================================\n",
    "training_file = 'Data_Summary/BulkModulus_Data.csv' #Everything is in SI units now\n",
    "data_df = pd.read_csv(training_file)\n",
    "data_df['d'] = data_df['d']/1E9 # Convert Pa to GPa for coefficient magnitude"
   ]
  },
  {
   "cell_type": "code",
   "execution_count": null,
   "metadata": {},
   "outputs": [],
   "source": [
    "# GENERATE KFOLD INDICES\n",
    "#=========================================\n",
    "\n",
    "splits = 10\n",
    "kf = KFold(n_splits = splits, shuffle = True, random_state = 1)\n",
    "result = next(kf.split(data_df), None)\n",
    "Ntrain = len(data_df.iloc[result[0]])\n",
    "Ntest =  len(data_df.iloc[result[1]])\n",
    "print('Test size:')\n",
    "print(Ntest)\n",
    "print('Training size:')\n",
    "print(Ntrain)"
   ]
  },
  {
   "cell_type": "code",
   "execution_count": null,
   "metadata": {},
   "outputs": [],
   "source": [
    "# GET EXPRESSION COMBINATION LIST\n",
    "#=========================================\n",
    "\n",
    "expressions = [\"sqrt\",\"^2\",\"^3\"]\n",
    "expression_array = []\n",
    "\n",
    "for i in range(len(expressions)):\n",
    "    exp = list(combinations(expressions, i+1))\n",
    "    expression_array = expression_array + exp\n",
    "\n",
    "expression_array = [list(exp_tup) for exp_tup in expression_array]"
   ]
  },
  {
   "cell_type": "code",
   "execution_count": null,
   "metadata": {},
   "outputs": [],
   "source": [
    "# FEATURE ARRAY LIST\n",
    "#=========================================\n",
    "\n",
    "feature_array = [1,2,3]"
   ]
  },
  {
   "cell_type": "code",
   "execution_count": null,
   "metadata": {},
   "outputs": [],
   "source": [
    "# RUNNING KFOLD LOOPING\n",
    "#=========================================\n",
    "\n",
    "df = pd.DataFrame()\n",
    "\n",
    "for split in range(splits):\n",
    "    \n",
    "    result = list(kf.split(data_df))[split]\n",
    "    train = data_df.iloc[result[0]].reset_index(drop=True)\n",
    "    test =  data_df.iloc[result[1]].reset_index(drop=True)\n",
    "    kfold = split\n",
    "    \n",
    "    for expressions in expression_array:\n",
    "    \n",
    "        for FEATENG_STEPS in feature_array:\n",
    "\n",
    "            eqn, eqn_str, coeffs, rmse, r2, mape, y_real, y_hat, trained_workflow = sr.run_SR(train,FEATENG_STEPS,expressions)\n",
    "\n",
    "            #Check test data\n",
    "            ytest_real = test['d'] #soundspeed or density\n",
    "            ytest_hat = trained_workflow.predict(x = test[['T','r','m']])\n",
    "            rmse_test = np.sqrt(skmetrics.mean_squared_error(ytest_real, ytest_hat))\n",
    "            r2_test = skmetrics.r2_score(ytest_real, ytest_hat)\n",
    "\n",
    "            single_dict = {'kfold':[kfold],\n",
    "                           'exp': [expressions],\n",
    "                           'feats': [FEATENG_STEPS],\n",
    "                           'eqn': [eqn],\n",
    "                           'rmse_test': [rmse_test],\n",
    "                           'r2_test': [r2_test],\n",
    "                           'rmse_train': [rmse],\n",
    "                           'r2_train': [r2],\n",
    "                           'ytrain_real': [[y_real]],\n",
    "                           'ytrain_hat': [[y_hat]],\n",
    "                           'ytest_real': [[ytest_real]],\n",
    "                           'ytest_hat': [[ytest_hat]]}\n",
    "\n",
    "            df_new = pd.DataFrame.from_dict(single_dict)\n",
    "            df = pd.concat([df,df_new],axis=0)"
   ]
  },
  {
   "cell_type": "code",
   "execution_count": null,
   "metadata": {},
   "outputs": [],
   "source": [
    "# SAVE AND SEE RESULTS\n",
    "#=========================================\n",
    "export_filename='SR_Kfold_BulkModulus_Results.csv'                             \n",
    "df.to_csv(export_filename) "
   ]
  }
 ],
 "metadata": {
  "interpreter": {
   "hash": "1baa965d5efe3ac65b79dfc60c0d706280b1da80fedb7760faf2759126c4f253"
  },
  "kernelspec": {
   "display_name": "Python 3",
   "language": "python",
   "name": "python3"
  },
  "language_info": {
   "codemirror_mode": {
    "name": "ipython",
    "version": 3
   },
   "file_extension": ".py",
   "mimetype": "text/x-python",
   "name": "python",
   "nbconvert_exporter": "python",
   "pygments_lexer": "ipython3",
   "version": "3.8.3"
  }
 },
 "nbformat": 4,
 "nbformat_minor": 4
}
